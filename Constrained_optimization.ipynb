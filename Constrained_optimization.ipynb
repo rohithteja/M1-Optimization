{
  "nbformat": 4,
  "nbformat_minor": 0,
  "metadata": {
    "colab": {
      "name": "Constrained optimization.ipynb",
      "provenance": [],
      "collapsed_sections": []
    },
    "kernelspec": {
      "name": "python3",
      "display_name": "Python 3"
    },
    "accelerator": "GPU"
  },
  "cells": [
    {
      "cell_type": "code",
      "metadata": {
        "id": "G73aicfkYI1e",
        "colab_type": "code",
        "colab": {}
      },
      "source": [
        "import cvxpy as cp\n",
        "import numpy as np\n",
        "#pip install CVXPY"
      ],
      "execution_count": 0,
      "outputs": []
    },
    {
      "cell_type": "markdown",
      "metadata": {
        "id": "Aw0KIrJtgcDG",
        "colab_type": "text"
      },
      "source": [
        "1 Using CVXPY"
      ]
    },
    {
      "cell_type": "code",
      "metadata": {
        "id": "i87HoHWYYI4B",
        "colab_type": "code",
        "colab": {}
      },
      "source": [
        "# Create two scalar optimization variables.\n",
        "x = cp.Variable()\n",
        "y = cp.Variable()"
      ],
      "execution_count": 0,
      "outputs": []
    },
    {
      "cell_type": "code",
      "metadata": {
        "id": "8PV0yFUCYI6T",
        "colab_type": "code",
        "colab": {}
      },
      "source": [
        "# Create two constraints.\n",
        "constraints = [x + y == 1,\n",
        "x - y >= 1]"
      ],
      "execution_count": 0,
      "outputs": []
    },
    {
      "cell_type": "code",
      "metadata": {
        "id": "fxV7ezrcYI83",
        "colab_type": "code",
        "colab": {}
      },
      "source": [
        "# Form objective.\n",
        "obj = cp.Minimize((x - y)**2)"
      ],
      "execution_count": 0,
      "outputs": []
    },
    {
      "cell_type": "code",
      "metadata": {
        "id": "eaPT0u0VYI_S",
        "colab_type": "code",
        "colab": {}
      },
      "source": [
        "# Form and solve problem.\n",
        "prob = cp.Problem(obj, constraints)"
      ],
      "execution_count": 0,
      "outputs": []
    },
    {
      "cell_type": "code",
      "metadata": {
        "id": "SNi4jRTpYJD7",
        "colab_type": "code",
        "outputId": "82f3f10c-c310-475a-a3c1-7c4c149894f1",
        "colab": {
          "base_uri": "https://localhost:8080/",
          "height": 35
        }
      },
      "source": [
        "prob.solve() # Returns the optimal value."
      ],
      "execution_count": 0,
      "outputs": [
        {
          "output_type": "execute_result",
          "data": {
            "text/plain": [
              "1.0"
            ]
          },
          "metadata": {
            "tags": []
          },
          "execution_count": 8
        }
      ]
    },
    {
      "cell_type": "code",
      "metadata": {
        "id": "XIns2WjMYJHE",
        "colab_type": "code",
        "outputId": "f8d85e7a-e41a-4dfb-eda9-c0eef9ee2edf",
        "colab": {
          "base_uri": "https://localhost:8080/",
          "height": 35
        }
      },
      "source": [
        "print(\"status:\", prob.status)"
      ],
      "execution_count": 0,
      "outputs": [
        {
          "output_type": "stream",
          "text": [
            "status: optimal\n"
          ],
          "name": "stdout"
        }
      ]
    },
    {
      "cell_type": "code",
      "metadata": {
        "id": "i9whQg5nYJLP",
        "colab_type": "code",
        "outputId": "842a9786-af83-4e25-f307-c933d59c44b1",
        "colab": {
          "base_uri": "https://localhost:8080/",
          "height": 35
        }
      },
      "source": [
        "print(\"optimal value\", prob.value)"
      ],
      "execution_count": 0,
      "outputs": [
        {
          "output_type": "stream",
          "text": [
            "optimal value 1.0\n"
          ],
          "name": "stdout"
        }
      ]
    },
    {
      "cell_type": "code",
      "metadata": {
        "id": "-AzhivgRYp2O",
        "colab_type": "code",
        "outputId": "b8c4e069-c71c-40f9-b04e-95a23a555250",
        "colab": {
          "base_uri": "https://localhost:8080/",
          "height": 35
        }
      },
      "source": [
        "print(\"optimal var\", x.value, y.value)"
      ],
      "execution_count": 0,
      "outputs": [
        {
          "output_type": "stream",
          "text": [
            "optimal var 1.0 1.570086213240983e-22\n"
          ],
          "name": "stdout"
        }
      ]
    },
    {
      "cell_type": "markdown",
      "metadata": {
        "id": "BFO3kTbsggrD",
        "colab_type": "text"
      },
      "source": [
        "# 2. UNCONSTRAINED OPTIMIZATION"
      ]
    },
    {
      "cell_type": "code",
      "metadata": {
        "id": "E4J6RTX0Yp7V",
        "colab_type": "code",
        "colab": {}
      },
      "source": [
        "# 2.1 Problem 1\n",
        "x1 = cp.Variable(1)\n",
        "x2 = cp.Variable(1)\n",
        "\n",
        "#vector variables\n",
        "#x1 = cp.Variable(1)\n",
        "#x2 = cp.Variable(1)\n",
        "#using one dimensional vector variables, the result is identical as when used scalar variables\n",
        "#so all computations are done using scalar variables\n",
        "#there is an error when higher dimensional variables are used"
      ],
      "execution_count": 0,
      "outputs": []
    },
    {
      "cell_type": "code",
      "metadata": {
        "id": "BCKgR2UoYp92",
        "colab_type": "code",
        "colab": {}
      },
      "source": [
        "obj1 = cp.Minimize((x1-4)**2 + 7*(x2-4)**2 + 4*x2) #objective function"
      ],
      "execution_count": 0,
      "outputs": []
    },
    {
      "cell_type": "code",
      "metadata": {
        "id": "Lo7ZE_uNYqAs",
        "colab_type": "code",
        "colab": {}
      },
      "source": [
        "prob1 = cp.Problem(obj1)"
      ],
      "execution_count": 0,
      "outputs": []
    },
    {
      "cell_type": "code",
      "metadata": {
        "id": "cRJshFpwYqCg",
        "colab_type": "code",
        "outputId": "342d63ab-f5ff-4b20-a390-85e5fdb8aa04",
        "colab": {
          "base_uri": "https://localhost:8080/",
          "height": 34
        }
      },
      "source": [
        "prob1.solve()"
      ],
      "execution_count": 0,
      "outputs": [
        {
          "output_type": "execute_result",
          "data": {
            "text/plain": [
              "15.428571428571429"
            ]
          },
          "metadata": {
            "tags": []
          },
          "execution_count": 38
        }
      ]
    },
    {
      "cell_type": "code",
      "metadata": {
        "id": "LT5Vi0R2aL3k",
        "colab_type": "code",
        "outputId": "f018fb06-a680-4b9e-f703-94d0aff8f718",
        "colab": {
          "base_uri": "https://localhost:8080/",
          "height": 86
        }
      },
      "source": [
        "print(\"status:\", prob1.status)\n",
        "print(\"optimal value\", prob1.value)\n",
        "print(\"optimal var x1 = \", x1.value)\n",
        "print(\"optimal var x2 = \", x2.value)\n",
        "#solution with scalar variables\n",
        "#status: optimal\n",
        "#optimal value 15.428571428571429\n",
        "#optimal var x1 =  4.0\n",
        "#optimal var x2 =  3.7142857142857144 #the calculated variables are scalars\n",
        "\n",
        "#the problem when solved on paper, gives the exact same result as above.\n",
        "\n",
        "#solution when used vector variables\n",
        "#status: optimal\n",
        "#optimal value 15.428571428571429\n",
        "#optimal var x1 =  [4.]\n",
        "#optimal var x2 =  [3.71428571] #the variables are vectors in this case\n",
        "#since the results are identical for all the problems, calulation for vector variables\n",
        "#is not considered."
      ],
      "execution_count": 0,
      "outputs": [
        {
          "output_type": "stream",
          "text": [
            "status: optimal\n",
            "optimal value 15.428571428571429\n",
            "optimal var x1 =  [4.]\n",
            "optimal var x2 =  [3.71428571]\n"
          ],
          "name": "stdout"
        }
      ]
    },
    {
      "cell_type": "markdown",
      "metadata": {
        "id": "j_A0FTdyjE27",
        "colab_type": "text"
      },
      "source": [
        "2.2 Problem 2"
      ]
    },
    {
      "cell_type": "code",
      "metadata": {
        "id": "YHzAh1OdaLyp",
        "colab_type": "code",
        "colab": {}
      },
      "source": [
        "from sympy import *\n",
        "import numpy as np"
      ],
      "execution_count": 0,
      "outputs": []
    },
    {
      "cell_type": "code",
      "metadata": {
        "id": "IBX6np3faLwj",
        "colab_type": "code",
        "colab": {}
      },
      "source": [
        "#check convexity\n",
        "x1 = Symbol('x1')\n",
        "x2 = Symbol('x2')\n",
        "x3 = Symbol('x3')\n",
        "# initialising variables using SYMPY module"
      ],
      "execution_count": 0,
      "outputs": []
    },
    {
      "cell_type": "code",
      "metadata": {
        "id": "CYy8t-hMaLuC",
        "colab_type": "code",
        "colab": {}
      },
      "source": [
        "f1 = x1**3 + (x2-x3)**2 + x3**3 + 2 # function"
      ],
      "execution_count": 0,
      "outputs": []
    },
    {
      "cell_type": "code",
      "metadata": {
        "id": "RKxoNnYHcjkH",
        "colab_type": "code",
        "colab": {}
      },
      "source": [
        "dx1 = f1.diff(x1) #6*x1**2\n",
        "dx2 = f1.diff(x2) #36*x2 - 12*x3\n",
        "dx3 = f1.diff(x3) #-12*x2 + 4*x3 - 4\n",
        "# finding jacobian of f1 using sympy diff method"
      ],
      "execution_count": 0,
      "outputs": []
    },
    {
      "cell_type": "code",
      "metadata": {
        "id": "ZHlhW1AdgDUa",
        "colab_type": "code",
        "outputId": "fd8e919a-6c73-4549-8ee7-40b9383888aa",
        "colab": {
          "base_uri": "https://localhost:8080/",
          "height": 34
        }
      },
      "source": [
        "dx1"
      ],
      "execution_count": 0,
      "outputs": [
        {
          "output_type": "execute_result",
          "data": {
            "text/plain": [
              "3*x1**2"
            ]
          },
          "metadata": {
            "tags": []
          },
          "execution_count": 87
        }
      ]
    },
    {
      "cell_type": "code",
      "metadata": {
        "id": "R5nJ6oS0gDaY",
        "colab_type": "code",
        "outputId": "18e40c1f-02be-4ae6-f543-47a5f41fdaea",
        "colab": {
          "base_uri": "https://localhost:8080/",
          "height": 34
        }
      },
      "source": [
        "dx2"
      ],
      "execution_count": 0,
      "outputs": [
        {
          "output_type": "execute_result",
          "data": {
            "text/plain": [
              "2*x2 - 2*x3"
            ]
          },
          "metadata": {
            "tags": []
          },
          "execution_count": 88
        }
      ]
    },
    {
      "cell_type": "code",
      "metadata": {
        "id": "JxjOPX24gDi9",
        "colab_type": "code",
        "outputId": "11063422-9f1a-4f1e-852a-1b339afaa58a",
        "colab": {
          "base_uri": "https://localhost:8080/",
          "height": 34
        }
      },
      "source": [
        "dx3"
      ],
      "execution_count": 0,
      "outputs": [
        {
          "output_type": "execute_result",
          "data": {
            "text/plain": [
              "-2*x2 + 3*x3**2 + 2*x3"
            ]
          },
          "metadata": {
            "tags": []
          },
          "execution_count": 89
        }
      ]
    },
    {
      "cell_type": "code",
      "metadata": {
        "id": "JYwjUBxZaLrw",
        "colab_type": "code",
        "colab": {}
      },
      "source": [
        "hessian = Matrix(np.array([[dx1.diff(x1),dx1.diff(x2),dx1.diff(x3)],\n",
        "                           [dx2.diff(x1),dx2.diff(x2),dx2.diff(x3)],\n",
        "                           [dx3.diff(x1),dx3.diff(x2),dx3.diff(x3)]]))\n",
        "# calculating hessian matrix using sympy methods"
      ],
      "execution_count": 0,
      "outputs": []
    },
    {
      "cell_type": "code",
      "metadata": {
        "id": "_teqH2XmaLpS",
        "colab_type": "code",
        "outputId": "67767db4-92ec-4acb-f380-d7b087c3b342",
        "colab": {
          "base_uri": "https://localhost:8080/",
          "height": 34
        }
      },
      "source": [
        "hessian.det() #calculating det of hessian"
      ],
      "execution_count": 0,
      "outputs": [
        {
          "output_type": "execute_result",
          "data": {
            "text/plain": [
              "12*x1*(6*x3 + 2) - 24*x1"
            ]
          },
          "metadata": {
            "tags": []
          },
          "execution_count": 91
        }
      ]
    },
    {
      "cell_type": "code",
      "metadata": {
        "id": "yDjvtR82aLm9",
        "colab_type": "code",
        "outputId": "79ec7909-8cce-42c2-c990-06a58138b31d",
        "colab": {
          "base_uri": "https://localhost:8080/",
          "height": 34
        }
      },
      "source": [
        "hessian.trace() #calculating trace of hessian\n",
        "#constraints for the problem to be convex can be found by computing determinant >= 0 and trace >= 0\n",
        "# the two constraints thus found are -\n",
        "# x1*x3 >= 0\n",
        "# 3*x1 + 3*x3 + 2 >= 0\n",
        "# The problem is convex if it satisfies the above mentioned constraints."
      ],
      "execution_count": 0,
      "outputs": [
        {
          "output_type": "execute_result",
          "data": {
            "text/plain": [
              "6*x1 + 6*x3 + 4"
            ]
          },
          "metadata": {
            "tags": []
          },
          "execution_count": 92
        }
      ]
    },
    {
      "cell_type": "code",
      "metadata": {
        "id": "qsfzHP3yaLhs",
        "colab_type": "code",
        "colab": {}
      },
      "source": [
        "#formulate LPP\n",
        "x1 = cp.Variable()\n",
        "x2 = cp.Variable()\n",
        "x3 = cp.Variable()"
      ],
      "execution_count": 0,
      "outputs": []
    },
    {
      "cell_type": "code",
      "metadata": {
        "id": "56tACUV0aLfF",
        "colab_type": "code",
        "colab": {}
      },
      "source": [
        "obj2 = cp.Minimize(x1**3 + (x2-x3)**2 + x3**3 + 2)"
      ],
      "execution_count": 0,
      "outputs": []
    },
    {
      "cell_type": "code",
      "metadata": {
        "id": "hTjnmB8He_8Z",
        "colab_type": "code",
        "outputId": "de0c6b1d-4aa0-4e22-9e68-8fc36ce5b4b8",
        "colab": {
          "base_uri": "https://localhost:8080/",
          "height": 34
        }
      },
      "source": [
        "prob2 = cp.Problem(obj2)\n",
        "prob2.solve()"
      ],
      "execution_count": 0,
      "outputs": [
        {
          "output_type": "execute_result",
          "data": {
            "text/plain": [
              "1.9999999993629338"
            ]
          },
          "metadata": {
            "tags": []
          },
          "execution_count": 124
        }
      ]
    },
    {
      "cell_type": "code",
      "metadata": {
        "id": "C0Q0Cu8SfAQA",
        "colab_type": "code",
        "outputId": "64764b8a-307e-486a-d821-7bca5caa0738",
        "colab": {
          "base_uri": "https://localhost:8080/",
          "height": 69
        }
      },
      "source": [
        "print(\"status:\", prob2.status)\n",
        "print(\"optimal value\", prob2.value)\n",
        "print(\"optimal var\", x1.value, x2.value,x3.value)\n",
        "\n",
        "#status: optimal\n",
        "#optimal value 1.9999999993629338\n",
        "#optimal var 0.0008258815459611968 0.0008258861793499652 0.0008258861755015717\n",
        "# solving the problem traditional way gives the solution as\n",
        "# x1 = x2 = x3 = 0 and the optimal value = 2 which is close to the solution found by the CVXPY"
      ],
      "execution_count": 0,
      "outputs": [
        {
          "output_type": "stream",
          "text": [
            "status: optimal\n",
            "optimal value 1.9999999993629338\n",
            "optimal var 0.0008258815459611968 0.0008258861793499652 0.0008258861755015717\n"
          ],
          "name": "stdout"
        }
      ]
    },
    {
      "cell_type": "markdown",
      "metadata": {
        "id": "fW54j6MbjKRy",
        "colab_type": "text"
      },
      "source": [
        "2.3 Problem 3"
      ]
    },
    {
      "cell_type": "code",
      "metadata": {
        "id": "9MAzlgsSfAHs",
        "colab_type": "code",
        "colab": {}
      },
      "source": [
        "x1 = cp.Variable()\n",
        "x2 = cp.Variable()"
      ],
      "execution_count": 0,
      "outputs": []
    },
    {
      "cell_type": "code",
      "metadata": {
        "id": "0k4zhLWDDo_M",
        "colab_type": "code",
        "outputId": "1e3bf209-9162-41ec-f1ca-cb2518e1724f",
        "colab": {
          "base_uri": "https://localhost:8080/",
          "height": 34
        }
      },
      "source": [
        "obj3 = cp.Minimize((x1-2)**2 + 3*x2)\n",
        "const3 = [x1+x2-4<=0]\n",
        "prob3 = cp.Problem(obj3,const3)\n",
        "prob3.solve()\n",
        "#solution to the problem without log barrier function shows unbounded status and the function value goes to negative infinity\n",
        "#status: unbounded\n",
        "#optimal value -inf\n",
        "#optimal var None None"
      ],
      "execution_count": 0,
      "outputs": [
        {
          "output_type": "execute_result",
          "data": {
            "text/plain": [
              "-inf"
            ]
          },
          "metadata": {
            "tags": []
          },
          "execution_count": 3
        }
      ]
    },
    {
      "cell_type": "code",
      "metadata": {
        "id": "KN09ojuBe_6I",
        "colab_type": "code",
        "colab": {}
      },
      "source": [
        "#reformulating using the log barrier function\n",
        "objlog = cp.Minimize((x1-2)**2 + 3*x2 - 0.001*cp.log(-(-x1-x2+4))) #log barrier is added to the objective function\n",
        "#parameter is chosen as 0.001, 1, 100 and 100000\n",
        "# NOTE -  the parameter is multiplied directly to the barrier function in the objective function instead of using 1/t"
      ],
      "execution_count": 0,
      "outputs": []
    },
    {
      "cell_type": "code",
      "metadata": {
        "id": "ndW7JGjje_3G",
        "colab_type": "code",
        "outputId": "5615269c-e8e9-46d5-e9f6-e7e6f863beac",
        "colab": {
          "base_uri": "https://localhost:8080/",
          "height": 34
        }
      },
      "source": [
        "problog = cp.Problem(objlog)\n",
        "problog.solve()\n",
        "\n",
        "#solution when parameter = 0.001\n",
        "#status: optimal\n",
        "#optimal value 3.759006322763877\n",
        "#optimal var 3.500000963375165 0.500332323592533\n",
        "\n",
        "#solution when parameter = 1\n",
        "#status: optimal\n",
        "#optimal value 5.84861227238681\n",
        "#optimal var 3.500000398379134 0.8333329278362519  \n",
        "\n",
        "#solution when parameter = 100\n",
        "#status: optimal\n",
        "#optimal value -246.9057897847487\n",
        "#optimal var 3.499976905547963 33.83335747486957\n",
        "\n",
        "#solution when parameter = 100000\n",
        "#status: optimal_inaccurate\n",
        "#optimal value -941427.573319449\n",
        "#optimal var 3.4999982666221587 33333.833961723896\n",
        "\n",
        "# as the size of the parameter is increased, the optimal value of the solution..\n",
        "# ..moves towards negative infinity. with this we can bound the function as per requirement.\n",
        "# in other words, as we decrease the parameter size, we get closer to the optimal solution\n",
        "# here the optimal value of parameter is close to 0.001 which gives the best solution for this problem"
      ],
      "execution_count": 0,
      "outputs": [
        {
          "output_type": "execute_result",
          "data": {
            "text/plain": [
              "3.759006322763877"
            ]
          },
          "metadata": {
            "tags": []
          },
          "execution_count": 14
        }
      ]
    },
    {
      "cell_type": "code",
      "metadata": {
        "id": "kqdlQv83e_yM",
        "colab_type": "code",
        "outputId": "191ae97a-a66a-4bde-df8d-63fc2b00c3f2",
        "colab": {
          "base_uri": "https://localhost:8080/",
          "height": 69
        }
      },
      "source": [
        "print(\"status:\", problog.status)\n",
        "print(\"optimal value\", problog.value)\n",
        "print(\"optimal var\", x1.value, x2.value)"
      ],
      "execution_count": 0,
      "outputs": [
        {
          "output_type": "stream",
          "text": [
            "status: optimal\n",
            "optimal value 3.759006322763877\n",
            "optimal var 3.500000963375165 0.500332323592533\n"
          ],
          "name": "stdout"
        }
      ]
    },
    {
      "cell_type": "markdown",
      "metadata": {
        "id": "DFAQrOA5ja5l",
        "colab_type": "text"
      },
      "source": [
        "3 Modeling constrained problems"
      ]
    },
    {
      "cell_type": "markdown",
      "metadata": {
        "id": "_4QNvP5Ujenb",
        "colab_type": "text"
      },
      "source": [
        "3.1 Water resources"
      ]
    },
    {
      "cell_type": "code",
      "metadata": {
        "id": "TpAA9vL-jPki",
        "colab_type": "code",
        "colab": {}
      },
      "source": [
        "r = cp.Variable() # r is no. of liters drawn from reservoir\n",
        "s = cp.Variable() # s is no. of liters drawn from stream"
      ],
      "execution_count": 0,
      "outputs": []
    },
    {
      "cell_type": "code",
      "metadata": {
        "id": "UhHzHww9jd0j",
        "colab_type": "code",
        "colab": {}
      },
      "source": [
        "obj_cost = cp.Minimize((r/10)+(5*s/100)) #minimizing total cost"
      ],
      "execution_count": 0,
      "outputs": []
    },
    {
      "cell_type": "code",
      "metadata": {
        "id": "8sbV4QtdjPnK",
        "colab_type": "code",
        "colab": {}
      },
      "source": [
        "const_water = [r+s==500000,\n",
        "               s<=100000,\n",
        "               50*r + 250*s <= 50000000] #constraints\n",
        "# ppm is mg/liter so the third constraint is formulated in such as way that the units are same for all variables\n",
        "# so 100 ppm is multiplied with 500000 liters of water"
      ],
      "execution_count": 0,
      "outputs": []
    },
    {
      "cell_type": "code",
      "metadata": {
        "id": "VWKJnKbCjPs1",
        "colab_type": "code",
        "outputId": "55115f23-5327-4e96-eb96-7ee744e2ea7a",
        "colab": {
          "base_uri": "https://localhost:8080/",
          "height": 35
        }
      },
      "source": [
        "prob_water = cp.Problem(obj_cost,const_water)\n",
        "prob_water.solve()"
      ],
      "execution_count": 0,
      "outputs": [
        {
          "output_type": "execute_result",
          "data": {
            "text/plain": [
              "45000.000000000015"
            ]
          },
          "metadata": {
            "tags": []
          },
          "execution_count": 29
        }
      ]
    },
    {
      "cell_type": "code",
      "metadata": {
        "id": "VaCvA-DGjPwk",
        "colab_type": "code",
        "outputId": "0bf6ddbe-2405-4706-d3ba-d1c9f842a675",
        "colab": {
          "base_uri": "https://localhost:8080/",
          "height": 88
        }
      },
      "source": [
        "print(\"status:\", prob_water.status)\n",
        "print(\"optimal value\", prob_water.value)\n",
        "print(\"optimal var r =\", r.value)\n",
        "print(\"optimal var s =\", s.value)\n",
        "\n",
        "#status: optimal\n",
        "#optimal value 45000.000000000015\n",
        "#optimal var r = 400000.0000000001\n",
        "#optimal var s = 100000.00000000003"
      ],
      "execution_count": 0,
      "outputs": [
        {
          "output_type": "stream",
          "text": [
            "status: optimal\n",
            "optimal value 45000.000000000015\n",
            "optimal var r = 400000.0000000001\n",
            "optimal var s = 100000.00000000003\n"
          ],
          "name": "stdout"
        }
      ]
    },
    {
      "cell_type": "markdown",
      "metadata": {
        "id": "EpqeL_V_kIbW",
        "colab_type": "text"
      },
      "source": [
        "3.2 Good-smelling perfume design"
      ]
    },
    {
      "cell_type": "code",
      "metadata": {
        "id": "E6PsxY1ljP1p",
        "colab_type": "code",
        "colab": {}
      },
      "source": [
        "b1 = cp.Variable() # fraction of blend 1 in perfume\n",
        "b2 = cp.Variable() # fraction of blend 2\n",
        "b3 = cp.Variable() # fraction of blend 3\n",
        "b4 = cp.Variable() # fraction of blend 4"
      ],
      "execution_count": 0,
      "outputs": []
    },
    {
      "cell_type": "code",
      "metadata": {
        "id": "hXgM-hNCjP4Q",
        "colab_type": "code",
        "colab": {}
      },
      "source": [
        "obj_perfcost = cp.Minimize(55*b1 + 65*b2 + 35*b3 +85*b4) # minimizing the total cost"
      ],
      "execution_count": 0,
      "outputs": []
    },
    {
      "cell_type": "code",
      "metadata": {
        "id": "eK690TKPjP62",
        "colab_type": "code",
        "colab": {}
      },
      "source": [
        "total = b1+b2+b3+b4 # total fraction adds up to 1 (used in constraints)"
      ],
      "execution_count": 0,
      "outputs": []
    },
    {
      "cell_type": "code",
      "metadata": {
        "id": "4j5OwGjpjP9K",
        "colab_type": "code",
        "colab": {}
      },
      "source": [
        "a1 = b2\n",
        "a2 = b3\n",
        "a3 = b1\n",
        "a4 = 0.35*b1+0.60*b2+0.35*b3+0.40*b4\n",
        "a5 = 0.15*b1+0.05*b2+0.20*b3+0.10*b4\n",
        "a6 = 0.30*b1+0.20*b2+0.40*b3+0.20*b4\n",
        "a7 = 0.20*b1+0.15*b2+0.05*b3+0.30*b4 #used in constraint matrix"
      ],
      "execution_count": 0,
      "outputs": []
    },
    {
      "cell_type": "code",
      "metadata": {
        "id": "hButxDT9jQBy",
        "colab_type": "code",
        "colab": {}
      },
      "source": [
        "const_perf = [\n",
        "              0.05<=a1, a1<=0.2,\n",
        "              0.3<=a2,\n",
        "              0.1<=a3, a3<=0.25,\n",
        "              a4 <=0.5,\n",
        "              0.08<=a5, a5 <=0.13,\n",
        "              a6 <=0.35,\n",
        "              0.19<= a7,total ==1\n",
        "]\n",
        "#all the constraints are formulated as mentioned in the problem"
      ],
      "execution_count": 0,
      "outputs": []
    },
    {
      "cell_type": "code",
      "metadata": {
        "id": "YqNwKFCsjQEc",
        "colab_type": "code",
        "colab": {}
      },
      "source": [
        "prob_perf = cp.Problem(obj_perfcost,const_perf)"
      ],
      "execution_count": 0,
      "outputs": []
    },
    {
      "cell_type": "code",
      "metadata": {
        "id": "1rUOCMu_jQHb",
        "colab_type": "code",
        "outputId": "003172b7-33ce-4060-cb26-9a538b5b4b56",
        "colab": {
          "base_uri": "https://localhost:8080/",
          "height": 35
        }
      },
      "source": [
        "prob_perf.solve()"
      ],
      "execution_count": 0,
      "outputs": [
        {
          "output_type": "execute_result",
          "data": {
            "text/plain": [
              "63.0"
            ]
          },
          "metadata": {
            "tags": []
          },
          "execution_count": 41
        }
      ]
    },
    {
      "cell_type": "code",
      "metadata": {
        "id": "ZyRFRyCgjQJ_",
        "colab_type": "code",
        "outputId": "b85f193d-c6da-493d-cf89-5d38235fe3c4",
        "colab": {
          "base_uri": "https://localhost:8080/",
          "height": 124
        }
      },
      "source": [
        "print(\"status:\", prob_perf.status)\n",
        "print(\"optimal value\", prob_perf.value)\n",
        "print(\"optimal var b1 =\", b1.value)\n",
        "print(\"optimal var b2 =\", b2.value)\n",
        "print(\"optimal var b3 =\", b3.value)\n",
        "print(\"optimal var b4 =\", b4.value)\n",
        "\n",
        "#status: optimal\n",
        "#optimal value 63.0\n",
        "#optimal var b1 = 0.14\n",
        "#optimal var b2 = 0.139\n",
        "#optimal var b3 = 0.3\n",
        "#optimal var b4 = 0.42\n",
        "# as the optimal solution is having all positive fractions, so the solution is valid\n",
        "# the optimal cost is 63 euros."
      ],
      "execution_count": 0,
      "outputs": [
        {
          "output_type": "stream",
          "text": [
            "status: optimal\n",
            "optimal value 63.0\n",
            "optimal var b1 = 0.14000000000000032\n",
            "optimal var b2 = 0.13999999999999976\n",
            "optimal var b3 = 0.3\n",
            "optimal var b4 = 0.42\n"
          ],
          "name": "stdout"
        }
      ]
    },
    {
      "cell_type": "markdown",
      "metadata": {
        "id": "ZUO4Ke5Pmfmd",
        "colab_type": "text"
      },
      "source": [
        "3.3 Roadway expenses"
      ]
    },
    {
      "cell_type": "code",
      "metadata": {
        "id": "ceQjyKRVjQOK",
        "colab_type": "code",
        "colab": {}
      },
      "source": [
        "xr = cp.Variable() #money spend on rural projects\n",
        "xu = cp.Variable() # money spent on urban projects"
      ],
      "execution_count": 0,
      "outputs": []
    },
    {
      "cell_type": "code",
      "metadata": {
        "id": "uXeCCAE8jQRB",
        "colab_type": "code",
        "colab": {}
      },
      "source": [
        "obj_road = cp.Maximize(7000*cp.log(1+xr) + 5000*cp.log(1+xu) - xr - xu) #objective function"
      ],
      "execution_count": 0,
      "outputs": []
    },
    {
      "cell_type": "code",
      "metadata": {
        "id": "awfROXrfjQT7",
        "colab_type": "code",
        "colab": {}
      },
      "source": [
        "const_road = [xu+xr ==200] #constraint"
      ],
      "execution_count": 0,
      "outputs": []
    },
    {
      "cell_type": "code",
      "metadata": {
        "id": "0P-tFqqYjQYM",
        "colab_type": "code",
        "colab": {}
      },
      "source": [
        "prob_road = cp.Problem(obj_road,const_road)"
      ],
      "execution_count": 0,
      "outputs": []
    },
    {
      "cell_type": "code",
      "metadata": {
        "id": "XP22EwrUjQav",
        "colab_type": "code",
        "outputId": "d7954440-14e3-4d84-ecbc-aa1621a2ff4c",
        "colab": {
          "base_uri": "https://localhost:8080/",
          "height": 35
        }
      },
      "source": [
        "prob_road.solve()"
      ],
      "execution_count": 0,
      "outputs": [
        {
          "output_type": "execute_result",
          "data": {
            "text/plain": [
              "55348.89310673721"
            ]
          },
          "metadata": {
            "tags": []
          },
          "execution_count": 72
        }
      ]
    },
    {
      "cell_type": "code",
      "metadata": {
        "id": "xeedW2lspyBs",
        "colab_type": "code",
        "colab": {}
      },
      "source": [
        "br = 7000*np.log(1+xr.value) #benefit from rural spending\n",
        "bu = 5000*np.log(1+xu.value) #benefit from urban spending"
      ],
      "execution_count": 0,
      "outputs": []
    },
    {
      "cell_type": "code",
      "metadata": {
        "id": "bBPDgdcUjQWU",
        "colab_type": "code",
        "outputId": "81974bf8-17c2-4b07-9f8e-6614731e2e58",
        "colab": {
          "base_uri": "https://localhost:8080/",
          "height": 124
        }
      },
      "source": [
        "print(\"status:\", prob_road.status)\n",
        "print(\"optimal benefit =\", prob_road.value)\n",
        "print(\"optimal var xu =\", xu.value)\n",
        "print(\"optimal var xr =\", xr.value)\n",
        "print(\"optimal var bu =\", bu)\n",
        "print(\"optimal var br =\", br)\n",
        "\n",
        "#status: optimal\n",
        "#optimal benefit = 55348.89310673721\n",
        "#optimal var xu = 83.1666963297482\n",
        "#optimal var xr = 116.83330317505175\n",
        "#optimal var bu = 22163.996562399472\n",
        "#optimal var br = 33384.896585098315 All numbers are in Millions\n",
        "# optimal solution makes sense as all the values are positive\n",
        "# optimal benefit is close to 55348 Million euros"
      ],
      "execution_count": 0,
      "outputs": [
        {
          "output_type": "stream",
          "text": [
            "status: optimal\n",
            "optimal benefit = 55348.89310673721\n",
            "optimal var xu = 83.1666963297482\n",
            "optimal var xr = 116.83330317505175\n",
            "optimal var bu = 22163.996562399472\n",
            "optimal var br = 33384.896585098315\n"
          ],
          "name": "stdout"
        }
      ]
    },
    {
      "cell_type": "markdown",
      "metadata": {
        "id": "loF_vQXDxSKM",
        "colab_type": "text"
      },
      "source": [
        "3.4 Design you own optimization problem"
      ]
    },
    {
      "cell_type": "markdown",
      "metadata": {
        "id": "1CzFFjJi_6Xh",
        "colab_type": "text"
      },
      "source": [
        "The problem is to maximize the \"Taste Points\" of a pizza. The taste points is like rating a pizza. The pizza receives 4 points per kg of olives used and 12 points per kg of cheese used. \n",
        "The max time to make a pizza is 81 minutes. Olives take 18 minutes to cook and cheese takes 9 minutes.\n",
        "Total budget for making pizza is limited to 120 euros where olives cost 4 eur/kg and cheese costs 20 eur/kg.\n",
        "What are the maximum amount of taste points that can be obtained for the pizza? And what is the quantity of olives and cheese used?"
      ]
    },
    {
      "cell_type": "code",
      "metadata": {
        "id": "VRp9DB5OjQAw",
        "colab_type": "code",
        "colab": {}
      },
      "source": [
        "olives = cp.Variable()\n",
        "cheese = cp.Variable()"
      ],
      "execution_count": 0,
      "outputs": []
    },
    {
      "cell_type": "code",
      "metadata": {
        "id": "ONE3AMzjxc7I",
        "colab_type": "code",
        "colab": {}
      },
      "source": [
        "obj_pizza = cp.Maximize(4*olives+12*cheese) #objective function is written to maximize the total taste points"
      ],
      "execution_count": 0,
      "outputs": []
    },
    {
      "cell_type": "code",
      "metadata": {
        "id": "smw6_VHSxc9x",
        "colab_type": "code",
        "colab": {}
      },
      "source": [
        "const_pizza = [4*olives+20*cheese<=120,\n",
        "               18*olives+9*cheese<=81]\n",
        "#constraints are chosen from the time and cost factors mentioned in the question"
      ],
      "execution_count": 0,
      "outputs": []
    },
    {
      "cell_type": "code",
      "metadata": {
        "id": "cyDDKg1FxdFK",
        "colab_type": "code",
        "colab": {}
      },
      "source": [
        "prob_pizza = cp.Problem(obj_pizza,const_pizza) #the problem is built using objective function and constraints"
      ],
      "execution_count": 0,
      "outputs": []
    },
    {
      "cell_type": "code",
      "metadata": {
        "id": "BdW2p4K7xdJe",
        "colab_type": "code",
        "outputId": "00e74db3-ed95-4e9e-ac9b-7254cd774c9b",
        "colab": {
          "base_uri": "https://localhost:8080/",
          "height": 35
        }
      },
      "source": [
        "prob_pizza.solve()"
      ],
      "execution_count": 0,
      "outputs": [
        {
          "output_type": "execute_result",
          "data": {
            "text/plain": [
              "74.66666666666667"
            ]
          },
          "metadata": {
            "tags": []
          },
          "execution_count": 217
        }
      ]
    },
    {
      "cell_type": "code",
      "metadata": {
        "id": "kz_2UWiLxdMh",
        "colab_type": "code",
        "outputId": "cbc4e6ba-0e8a-4c31-d70a-3e0c1ff67999",
        "colab": {
          "base_uri": "https://localhost:8080/",
          "height": 88
        }
      },
      "source": [
        "print(\"status:\", prob_pizza.status)\n",
        "print(\"Maximum taste points =\", prob_pizza.value)\n",
        "print(\"optimal olives =\", x.value)\n",
        "print(\"optimal cheese =\", y.value)\n",
        "\n",
        "#status: optimal\n",
        "#Maximum taste points = 74.66666666666667\n",
        "#optimal olives = 1.6666666666666663\n",
        "#optimal cheese = 5.666666666666666 \n",
        "#Units are in kg\n",
        "# so the maximum taste points that can be achieved using the ingredients in 74.6"
      ],
      "execution_count": 0,
      "outputs": [
        {
          "output_type": "stream",
          "text": [
            "status: optimal\n",
            "Maximum taste points = 74.66666666666667\n",
            "optimal olives = 1.6666666666666663\n",
            "optimal cheese = 5.666666666666666\n"
          ],
          "name": "stdout"
        }
      ]
    },
    {
      "cell_type": "markdown",
      "metadata": {
        "id": "NzgpsYN1Rmfg",
        "colab_type": "text"
      },
      "source": [
        "4 Data Analysis\n",
        "\n",
        "A simple linear regression problem is cconsidered where we need to predict the grade of students based on the number of hours they studied.\n",
        "X(no of hours studied is ) = [5,3,0] and y(grade) = [9,6,1].\n",
        "Data is provided for 3 students."
      ]
    },
    {
      "cell_type": "code",
      "metadata": {
        "id": "guc5EVRQxdCN",
        "colab_type": "code",
        "colab": {}
      },
      "source": [
        "#4.1\n",
        "A = np.array([[1,5],[1,3],[1,0]]) #A is the matrix with bias(chosen as 1) and x values\n",
        "y = np.transpose(np.array([9,6,1])) #y is the labels"
      ],
      "execution_count": 0,
      "outputs": []
    },
    {
      "cell_type": "code",
      "metadata": {
        "id": "mzfZRcPixdAb",
        "colab_type": "code",
        "outputId": "c5c5fbe8-2f9d-44d4-bb73-ae708737a1ba",
        "colab": {
          "base_uri": "https://localhost:8080/",
          "height": 34
        }
      },
      "source": [
        "#CVXPY is used to minimise the cost function\n",
        "teta = cp.Variable(2) #teta are the tuning parameters of the model\n",
        "objfunction = cp.sum_squares(A@teta - y) #objective function is the cost function of the problem\n",
        "prob = cp.Problem(cp.Minimize(objfunction)) #we minimise the cost\n",
        "prob.solve()"
      ],
      "execution_count": 0,
      "outputs": [
        {
          "output_type": "execute_result",
          "data": {
            "text/plain": [
              "0.02631578947368456"
            ]
          },
          "metadata": {
            "tags": []
          },
          "execution_count": 22
        }
      ]
    },
    {
      "cell_type": "code",
      "metadata": {
        "id": "leFybfJfNWF7",
        "colab_type": "code",
        "outputId": "0e909ac8-4ee9-4d47-fd32-9ff79aa534de",
        "colab": {
          "base_uri": "https://localhost:8080/",
          "height": 34
        }
      },
      "source": [
        "print(\"The optimal teta values =\",teta.value) #the equation to predict the new grades can be found by using the equation, y_hat = optimal_teta*x_test + bias\n",
        "\n",
        "# The optimal teta values = [1.05263158 1.60526316] first element is bias and second is teta which is coefficient of x variable"
      ],
      "execution_count": 0,
      "outputs": [
        {
          "output_type": "stream",
          "text": [
            "The optimal teta values = [1.1        1.59411765]\n"
          ],
          "name": "stdout"
        }
      ]
    },
    {
      "cell_type": "code",
      "metadata": {
        "id": "jl9U6HZaNWK5",
        "colab_type": "code",
        "outputId": "cf74f275-4bc9-46f1-ff5d-7b265af3248f",
        "colab": {
          "base_uri": "https://localhost:8080/",
          "height": 34
        }
      },
      "source": [
        "#4.2 \n",
        "#CASE 1 - ADDING CONSTRAINTS ON TETA TO FIND ITS RANGE \n",
        "teta = cp.Variable(2) \n",
        "objfunction = cp.sum_squares(A@teta - y) \n",
        "constraints = [1.1 <= teta, teta <= 1.6] #constraints are added on teta values to find the range of teta which gives minimum cost\n",
        "#constraints are chosen at random and then changed according to the result obtained (heuristic approach)\n",
        "newobj = cp.Minimize(objfunction)\n",
        "prob = cp.Problem(newobj, constraints)\n",
        "prob.solve()\n",
        "#The optimal teta values = [1.1 1.59411765] for the range of 1.1 <= teta <= 1.6"
      ],
      "execution_count": 0,
      "outputs": [
        {
          "output_type": "execute_result",
          "data": {
            "text/plain": [
              "0.028823529411765088"
            ]
          },
          "metadata": {
            "tags": []
          },
          "execution_count": 61
        }
      ]
    },
    {
      "cell_type": "code",
      "metadata": {
        "id": "mywxrRrONWPz",
        "colab_type": "code",
        "outputId": "1f24b662-f811-4805-d385-6fec6f5a3fa0",
        "colab": {
          "base_uri": "https://localhost:8080/",
          "height": 34
        }
      },
      "source": [
        "# CASE 2 - USING POLYNOMIAL REGRESSION TO SOLVE THE SAME PROBLEM\n",
        "#extra coefficients are added for x**2 in A matrix (same as adding new monomials in the cost function)\n",
        "A = np.array([[1,5,25],[1,3,9],[1,0,0]])\n",
        "y = np.transpose(np.array([9,6,1]))\n",
        "teta = cp.Variable(3) \n",
        "objfunction = cp.sum_squares(A@teta - y) \n",
        "newobj = cp.Minimize(objfunction)\n",
        "prob = cp.Problem(newobj)\n",
        "prob.solve() # the minimum solution is almost zero in this case"
      ],
      "execution_count": 0,
      "outputs": [
        {
          "output_type": "execute_result",
          "data": {
            "text/plain": [
              "2.706312172759759e-43"
            ]
          },
          "metadata": {
            "tags": []
          },
          "execution_count": 25
        }
      ]
    },
    {
      "cell_type": "code",
      "metadata": {
        "id": "lHTazfkaNWZd",
        "colab_type": "code",
        "outputId": "360939a1-c021-483f-8a21-b85a0a7202ac",
        "colab": {
          "base_uri": "https://localhost:8080/",
          "height": 34
        }
      },
      "source": [
        "print(\"The optimal teta values(polynomial regression) =\",teta.value)\n",
        "#The optimal teta values(polynomial regression) = [ 1  1.76666667 -0.03333333]"
      ],
      "execution_count": 0,
      "outputs": [
        {
          "output_type": "stream",
          "text": [
            "The optimal teta values(polynomial regression) = [ 1.          1.76666667 -0.03333333]\n"
          ],
          "name": "stdout"
        }
      ]
    },
    {
      "cell_type": "code",
      "metadata": {
        "id": "zTvk3upeNWb6",
        "colab_type": "code",
        "outputId": "f026f3cb-5ee1-4120-ed5b-39da448dd4d2",
        "colab": {
          "base_uri": "https://localhost:8080/",
          "height": 34
        }
      },
      "source": [
        "# CASE 3 - USING LASSO OPTIMIZATION ON THE POLYNOMIAL REGRESSOR\n",
        "A = np.array([[1,5,25],[1,3,9],[1,0,0]])\n",
        "y = np.transpose(np.array([9,6,1]))\n",
        "teta = cp.Variable(3) \n",
        "objfunction = cp.sum_squares(A@teta - y) + 0.01*cp.norm2(teta) \n",
        "#objective function is penalized with L2 norm of the teta. The parameter is chosen as 0.01\n",
        "newobj = cp.Minimize(objfunction )\n",
        "prob = cp.Problem(newobj)\n",
        "prob.solve() "
      ],
      "execution_count": 0,
      "outputs": [
        {
          "output_type": "execute_result",
          "data": {
            "text/plain": [
              "0.020288275147731922"
            ]
          },
          "metadata": {
            "tags": []
          },
          "execution_count": 27
        }
      ]
    },
    {
      "cell_type": "code",
      "metadata": {
        "id": "Az1U84cSNWey",
        "colab_type": "code",
        "outputId": "4502f597-fcea-4c15-9a42-d1188b3ffc6a",
        "colab": {
          "base_uri": "https://localhost:8080/",
          "height": 34
        }
      },
      "source": [
        "print(\"The optimal teta values(polynomial regression) =\",teta.value)\n",
        "#The optimal teta values(Lasso regression) = [ 0.99985714  1.76331598 -0.03260496]"
      ],
      "execution_count": 0,
      "outputs": [
        {
          "output_type": "stream",
          "text": [
            "The optimal teta values(polynomial regression) = [ 0.99985714  1.76331598 -0.03260496]\n"
          ],
          "name": "stdout"
        }
      ]
    },
    {
      "cell_type": "code",
      "metadata": {
        "id": "XrjKtOnTNWUM",
        "colab_type": "code",
        "colab": {}
      },
      "source": [
        ""
      ],
      "execution_count": 0,
      "outputs": []
    },
    {
      "cell_type": "code",
      "metadata": {
        "id": "bBRyQR3kNWSN",
        "colab_type": "code",
        "colab": {}
      },
      "source": [
        ""
      ],
      "execution_count": 0,
      "outputs": []
    },
    {
      "cell_type": "code",
      "metadata": {
        "id": "mrKbe8byNWOH",
        "colab_type": "code",
        "colab": {}
      },
      "source": [
        ""
      ],
      "execution_count": 0,
      "outputs": []
    }
  ]
}